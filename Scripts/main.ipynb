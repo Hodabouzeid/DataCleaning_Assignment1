{
 "cells": [
  {
   "cell_type": "code",
   "execution_count": 1,
   "metadata": {},
   "outputs": [
    {
     "name": "stdout",
     "output_type": "stream",
     "text": [
      "\n",
      " Loading Dataset...\n",
      "\n",
      " Testing Step 1: Impute Missing Values\n",
      "\n",
      " Step 1: Imputing Missing Values... Function Called!\n",
      "Input Data Shape Before Imputation: (1196, 28)\n",
      " Data Shape After Conversion: (1196, 28)\n",
      "Removing 6 columns with all NaN values: ['a', 'd', 'e', 'g', 'm', 's']\n",
      " Data Shape After Imputation & NaN Column Removal: (1196, 22)\n",
      " After Imputation: <class 'pandas.core.frame.DataFrame'>\n",
      "\n",
      " Testing Step 2: Remove Duplicates\n",
      "\n",
      " Step 2: Removing Duplicate Rows...\n",
      " 0 duplicate rows removed.\n",
      " After Removing Duplicates: <class 'pandas.core.frame.DataFrame'>\n",
      "\n",
      " Testing Step 3: Normalize Data\n",
      "\n",
      " Step 3: Normalizing Numerical Data...\n",
      " After Normalization: <class 'pandas.core.frame.DataFrame'>\n",
      "\n",
      " Testing Step 4: Remove Redundant Features\n",
      "\n",
      " Step 4: Removing Redundant Features...\n",
      " Dropping 6 redundant features: ['o', 'p', 'q', 'r', 'u', 'y']\n",
      " After Removing Redundant Features: <class 'pandas.core.frame.DataFrame'>\n",
      "\n",
      " Running Model...\n",
      "\n",
      " Running Simple Model...\n",
      " WARNING: Target column 'target' is continuous! Converting to integer labels.\n",
      "\n",
      " Model Accuracy: 0.73\n"
     ]
    }
   ],
   "source": [
    "# Import necessary modules\n",
    "import data_preprocessor as dp\n",
    "import pandas as pd\n",
    "from data_preprocessor import simple_model\n",
    "\n",
    "# 1. Load the dataset\n",
    "print(\"\\n Loading Dataset...\")\n",
    "messy_data = pd.read_csv('C:\\\\Users\\\\User\\\\Downloads\\\\DataCleaning_Assignment1\\\\Data\\\\messy_data.csv')\n",
    "\n",
    "# Make a copy to ensure original dataset remains unchanged\n",
    "clean_data = messy_data.copy()\n",
    "\n",
    "# Step 1: Impute Missing Values\n",
    "print(\"\\n Testing Step 1: Impute Missing Values\")\n",
    "clean_data = dp.impute_missing_values(clean_data, strategy='mean')\n",
    "print(\" After Imputation:\", type(clean_data))  # <-- Check if it's None\n",
    "\n",
    "# Step 2: Remove Duplicates\n",
    "print(\"\\n Testing Step 2: Remove Duplicates\")\n",
    "clean_data = dp.remove_duplicates(clean_data)\n",
    "print(\" After Removing Duplicates:\", type(clean_data))  # <-- Check if it's None\n",
    "\n",
    "#  Step 3: Normalize Data\n",
    "print(\"\\n Testing Step 3: Normalize Data\")\n",
    "clean_data = dp.normalize_data(clean_data)\n",
    "print(\" After Normalization:\", type(clean_data))  # <-- Check if it's None\n",
    "\n",
    "#  Step 4: Remove Redundant Features\n",
    "print(\"\\n Testing Step 4: Remove Redundant Features\")\n",
    "clean_data = dp.remove_redundant_features(clean_data)\n",
    "print(\" After Removing Redundant Features:\", type(clean_data))  # <-- Check if it's None\n",
    "\n",
    "#  Final Check Before Model\n",
    "if clean_data is None:\n",
    "    print(\"\\n ERROR: clean_data is None! The model cannot run.\")\n",
    "else:\n",
    "    print(\"\\n Running Model...\")\n",
    "    simple_model(clean_data) "
   ]
  }
 ],
 "metadata": {
  "kernelspec": {
   "display_name": "default",
   "language": "python",
   "name": "python3"
  },
  "language_info": {
   "codemirror_mode": {
    "name": "ipython",
    "version": 3
   },
   "file_extension": ".py",
   "mimetype": "text/x-python",
   "name": "python",
   "nbconvert_exporter": "python",
   "pygments_lexer": "ipython3",
   "version": "3.9.21"
  }
 },
 "nbformat": 4,
 "nbformat_minor": 2
}
